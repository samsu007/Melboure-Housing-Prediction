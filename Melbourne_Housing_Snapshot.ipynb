{
  "nbformat": 4,
  "nbformat_minor": 0,
  "metadata": {
    "colab": {
      "name": "Melbourne Housing Snapshot",
      "provenance": [],
      "collapsed_sections": []
    },
    "kernelspec": {
      "name": "python3",
      "display_name": "Python 3"
    },
    "accelerator": "GPU"
  },
  "cells": [
    {
      "cell_type": "code",
      "metadata": {
        "id": "3cLa67CQjKms",
        "colab_type": "code",
        "colab": {}
      },
      "source": [
        "import numpy as np\n",
        "import pandas as pd\n",
        "\n",
        "%matplotlib inline\n",
        "import matplotlib.pyplot as plt"
      ],
      "execution_count": 0,
      "outputs": []
    },
    {
      "cell_type": "code",
      "metadata": {
        "id": "D4RiTq85j3Tu",
        "colab_type": "code",
        "colab": {
          "base_uri": "https://localhost:8080/",
          "height": 343
        },
        "outputId": "5607d1af-3127-4da1-c73b-d14cda6d30f4"
      },
      "source": [
        "mhs = pd.read_csv(\"melb_data.csv\")\n",
        "mhs.head()"
      ],
      "execution_count": 124,
      "outputs": [
        {
          "output_type": "execute_result",
          "data": {
            "text/html": [
              "<div>\n",
              "<style scoped>\n",
              "    .dataframe tbody tr th:only-of-type {\n",
              "        vertical-align: middle;\n",
              "    }\n",
              "\n",
              "    .dataframe tbody tr th {\n",
              "        vertical-align: top;\n",
              "    }\n",
              "\n",
              "    .dataframe thead th {\n",
              "        text-align: right;\n",
              "    }\n",
              "</style>\n",
              "<table border=\"1\" class=\"dataframe\">\n",
              "  <thead>\n",
              "    <tr style=\"text-align: right;\">\n",
              "      <th></th>\n",
              "      <th>Suburb</th>\n",
              "      <th>Address</th>\n",
              "      <th>Rooms</th>\n",
              "      <th>Type</th>\n",
              "      <th>Price</th>\n",
              "      <th>Method</th>\n",
              "      <th>SellerG</th>\n",
              "      <th>Date</th>\n",
              "      <th>Distance</th>\n",
              "      <th>Postcode</th>\n",
              "      <th>Bedroom2</th>\n",
              "      <th>Bathroom</th>\n",
              "      <th>Car</th>\n",
              "      <th>Landsize</th>\n",
              "      <th>BuildingArea</th>\n",
              "      <th>YearBuilt</th>\n",
              "      <th>CouncilArea</th>\n",
              "      <th>Lattitude</th>\n",
              "      <th>Longtitude</th>\n",
              "      <th>Regionname</th>\n",
              "      <th>Propertycount</th>\n",
              "    </tr>\n",
              "  </thead>\n",
              "  <tbody>\n",
              "    <tr>\n",
              "      <th>0</th>\n",
              "      <td>Abbotsford</td>\n",
              "      <td>85 Turner St</td>\n",
              "      <td>2</td>\n",
              "      <td>h</td>\n",
              "      <td>1480000.0</td>\n",
              "      <td>S</td>\n",
              "      <td>Biggin</td>\n",
              "      <td>3/12/2016</td>\n",
              "      <td>2.5</td>\n",
              "      <td>3067.0</td>\n",
              "      <td>2.0</td>\n",
              "      <td>1.0</td>\n",
              "      <td>1.0</td>\n",
              "      <td>202.0</td>\n",
              "      <td>NaN</td>\n",
              "      <td>NaN</td>\n",
              "      <td>Yarra</td>\n",
              "      <td>-37.7996</td>\n",
              "      <td>144.9984</td>\n",
              "      <td>Northern Metropolitan</td>\n",
              "      <td>4019.0</td>\n",
              "    </tr>\n",
              "    <tr>\n",
              "      <th>1</th>\n",
              "      <td>Abbotsford</td>\n",
              "      <td>25 Bloomburg St</td>\n",
              "      <td>2</td>\n",
              "      <td>h</td>\n",
              "      <td>1035000.0</td>\n",
              "      <td>S</td>\n",
              "      <td>Biggin</td>\n",
              "      <td>4/02/2016</td>\n",
              "      <td>2.5</td>\n",
              "      <td>3067.0</td>\n",
              "      <td>2.0</td>\n",
              "      <td>1.0</td>\n",
              "      <td>0.0</td>\n",
              "      <td>156.0</td>\n",
              "      <td>79.0</td>\n",
              "      <td>1900.0</td>\n",
              "      <td>Yarra</td>\n",
              "      <td>-37.8079</td>\n",
              "      <td>144.9934</td>\n",
              "      <td>Northern Metropolitan</td>\n",
              "      <td>4019.0</td>\n",
              "    </tr>\n",
              "    <tr>\n",
              "      <th>2</th>\n",
              "      <td>Abbotsford</td>\n",
              "      <td>5 Charles St</td>\n",
              "      <td>3</td>\n",
              "      <td>h</td>\n",
              "      <td>1465000.0</td>\n",
              "      <td>SP</td>\n",
              "      <td>Biggin</td>\n",
              "      <td>4/03/2017</td>\n",
              "      <td>2.5</td>\n",
              "      <td>3067.0</td>\n",
              "      <td>3.0</td>\n",
              "      <td>2.0</td>\n",
              "      <td>0.0</td>\n",
              "      <td>134.0</td>\n",
              "      <td>150.0</td>\n",
              "      <td>1900.0</td>\n",
              "      <td>Yarra</td>\n",
              "      <td>-37.8093</td>\n",
              "      <td>144.9944</td>\n",
              "      <td>Northern Metropolitan</td>\n",
              "      <td>4019.0</td>\n",
              "    </tr>\n",
              "    <tr>\n",
              "      <th>3</th>\n",
              "      <td>Abbotsford</td>\n",
              "      <td>40 Federation La</td>\n",
              "      <td>3</td>\n",
              "      <td>h</td>\n",
              "      <td>850000.0</td>\n",
              "      <td>PI</td>\n",
              "      <td>Biggin</td>\n",
              "      <td>4/03/2017</td>\n",
              "      <td>2.5</td>\n",
              "      <td>3067.0</td>\n",
              "      <td>3.0</td>\n",
              "      <td>2.0</td>\n",
              "      <td>1.0</td>\n",
              "      <td>94.0</td>\n",
              "      <td>NaN</td>\n",
              "      <td>NaN</td>\n",
              "      <td>Yarra</td>\n",
              "      <td>-37.7969</td>\n",
              "      <td>144.9969</td>\n",
              "      <td>Northern Metropolitan</td>\n",
              "      <td>4019.0</td>\n",
              "    </tr>\n",
              "    <tr>\n",
              "      <th>4</th>\n",
              "      <td>Abbotsford</td>\n",
              "      <td>55a Park St</td>\n",
              "      <td>4</td>\n",
              "      <td>h</td>\n",
              "      <td>1600000.0</td>\n",
              "      <td>VB</td>\n",
              "      <td>Nelson</td>\n",
              "      <td>4/06/2016</td>\n",
              "      <td>2.5</td>\n",
              "      <td>3067.0</td>\n",
              "      <td>3.0</td>\n",
              "      <td>1.0</td>\n",
              "      <td>2.0</td>\n",
              "      <td>120.0</td>\n",
              "      <td>142.0</td>\n",
              "      <td>2014.0</td>\n",
              "      <td>Yarra</td>\n",
              "      <td>-37.8072</td>\n",
              "      <td>144.9941</td>\n",
              "      <td>Northern Metropolitan</td>\n",
              "      <td>4019.0</td>\n",
              "    </tr>\n",
              "  </tbody>\n",
              "</table>\n",
              "</div>"
            ],
            "text/plain": [
              "       Suburb           Address  ...             Regionname Propertycount\n",
              "0  Abbotsford      85 Turner St  ...  Northern Metropolitan        4019.0\n",
              "1  Abbotsford   25 Bloomburg St  ...  Northern Metropolitan        4019.0\n",
              "2  Abbotsford      5 Charles St  ...  Northern Metropolitan        4019.0\n",
              "3  Abbotsford  40 Federation La  ...  Northern Metropolitan        4019.0\n",
              "4  Abbotsford       55a Park St  ...  Northern Metropolitan        4019.0\n",
              "\n",
              "[5 rows x 21 columns]"
            ]
          },
          "metadata": {
            "tags": []
          },
          "execution_count": 124
        }
      ]
    },
    {
      "cell_type": "code",
      "metadata": {
        "id": "BGbEdCMjl-fT",
        "colab_type": "code",
        "colab": {
          "base_uri": "https://localhost:8080/",
          "height": 459
        },
        "outputId": "f1151995-d0ee-4a01-bdae-58ea8a5b0e92"
      },
      "source": [
        "#  Check the null values\n",
        "mhs.info()\n",
        "\n",
        "# [] - Missing Values\n",
        "# Independant Variable -  Rooms, Type, Bedroom2, Bathroom, [car], Landsize, [CouncilArea]\n",
        "# Dependant variable - Price \n",
        "\n",
        "# Numerical Attr - Rooms, Bedroom2, Bathroom, car, Landsize, Price\n",
        "# Categorical Attr - Type, CouncilArea"
      ],
      "execution_count": 125,
      "outputs": [
        {
          "output_type": "stream",
          "text": [
            "<class 'pandas.core.frame.DataFrame'>\n",
            "RangeIndex: 13580 entries, 0 to 13579\n",
            "Data columns (total 21 columns):\n",
            "Suburb           13580 non-null object\n",
            "Address          13580 non-null object\n",
            "Rooms            13580 non-null int64\n",
            "Type             13580 non-null object\n",
            "Price            13580 non-null float64\n",
            "Method           13580 non-null object\n",
            "SellerG          13580 non-null object\n",
            "Date             13580 non-null object\n",
            "Distance         13580 non-null float64\n",
            "Postcode         13580 non-null float64\n",
            "Bedroom2         13580 non-null float64\n",
            "Bathroom         13580 non-null float64\n",
            "Car              13518 non-null float64\n",
            "Landsize         13580 non-null float64\n",
            "BuildingArea     7130 non-null float64\n",
            "YearBuilt        8205 non-null float64\n",
            "CouncilArea      12211 non-null object\n",
            "Lattitude        13580 non-null float64\n",
            "Longtitude       13580 non-null float64\n",
            "Regionname       13580 non-null object\n",
            "Propertycount    13580 non-null float64\n",
            "dtypes: float64(12), int64(1), object(8)\n",
            "memory usage: 2.2+ MB\n"
          ],
          "name": "stdout"
        }
      ]
    },
    {
      "cell_type": "code",
      "metadata": {
        "id": "I2ghJXFbonto",
        "colab_type": "code",
        "colab": {
          "base_uri": "https://localhost:8080/",
          "height": 595
        },
        "outputId": "76172a20-4f91-425c-b4a4-89df2d98a1a6"
      },
      "source": [
        "# find how many categories in `Type` and `CouncilArea` columns\n",
        "\n",
        "mhs['Type'].value_counts() # h - house,cottage,villa, semi,terrace; u - unit, duplex; t - townhouse;\n",
        "\n",
        "mhs['CouncilArea'].value_counts() \n",
        "# There are various type of categories in `CouncilArea` columns. Top Three are Moreland,Boroondara, Moonee Valeey"
      ],
      "execution_count": 126,
      "outputs": [
        {
          "output_type": "execute_result",
          "data": {
            "text/plain": [
              "Moreland             1163\n",
              "Boroondara           1160\n",
              "Moonee Valley         997\n",
              "Darebin               934\n",
              "Glen Eira             848\n",
              "Stonnington           719\n",
              "Maribyrnong           692\n",
              "Yarra                 647\n",
              "Port Phillip          628\n",
              "Banyule               594\n",
              "Bayside               489\n",
              "Melbourne             470\n",
              "Hobsons Bay           434\n",
              "Brimbank              424\n",
              "Monash                333\n",
              "Manningham            311\n",
              "Whitehorse            304\n",
              "Kingston              207\n",
              "Whittlesea            167\n",
              "Hume                  164\n",
              "Wyndham                86\n",
              "Maroondah              80\n",
              "Knox                   80\n",
              "Melton                 66\n",
              "Frankston              53\n",
              "Greater Dandenong      52\n",
              "Casey                  38\n",
              "Nillumbik              36\n",
              "Yarra Ranges           18\n",
              "Cardinia                8\n",
              "Macedon Ranges          7\n",
              "Moorabool               1\n",
              "Unavailable             1\n",
              "Name: CouncilArea, dtype: int64"
            ]
          },
          "metadata": {
            "tags": []
          },
          "execution_count": 126
        }
      ]
    },
    {
      "cell_type": "code",
      "metadata": {
        "id": "ptx405u6qI3s",
        "colab_type": "code",
        "colab": {
          "base_uri": "https://localhost:8080/",
          "height": 317
        },
        "outputId": "1886295b-c63b-461e-99c9-b71ac9387272"
      },
      "source": [
        "mhs.describe()"
      ],
      "execution_count": 127,
      "outputs": [
        {
          "output_type": "execute_result",
          "data": {
            "text/html": [
              "<div>\n",
              "<style scoped>\n",
              "    .dataframe tbody tr th:only-of-type {\n",
              "        vertical-align: middle;\n",
              "    }\n",
              "\n",
              "    .dataframe tbody tr th {\n",
              "        vertical-align: top;\n",
              "    }\n",
              "\n",
              "    .dataframe thead th {\n",
              "        text-align: right;\n",
              "    }\n",
              "</style>\n",
              "<table border=\"1\" class=\"dataframe\">\n",
              "  <thead>\n",
              "    <tr style=\"text-align: right;\">\n",
              "      <th></th>\n",
              "      <th>Rooms</th>\n",
              "      <th>Price</th>\n",
              "      <th>Distance</th>\n",
              "      <th>Postcode</th>\n",
              "      <th>Bedroom2</th>\n",
              "      <th>Bathroom</th>\n",
              "      <th>Car</th>\n",
              "      <th>Landsize</th>\n",
              "      <th>BuildingArea</th>\n",
              "      <th>YearBuilt</th>\n",
              "      <th>Lattitude</th>\n",
              "      <th>Longtitude</th>\n",
              "      <th>Propertycount</th>\n",
              "    </tr>\n",
              "  </thead>\n",
              "  <tbody>\n",
              "    <tr>\n",
              "      <th>count</th>\n",
              "      <td>13580.000000</td>\n",
              "      <td>1.358000e+04</td>\n",
              "      <td>13580.000000</td>\n",
              "      <td>13580.000000</td>\n",
              "      <td>13580.000000</td>\n",
              "      <td>13580.000000</td>\n",
              "      <td>13518.000000</td>\n",
              "      <td>13580.000000</td>\n",
              "      <td>7130.000000</td>\n",
              "      <td>8205.000000</td>\n",
              "      <td>13580.000000</td>\n",
              "      <td>13580.000000</td>\n",
              "      <td>13580.000000</td>\n",
              "    </tr>\n",
              "    <tr>\n",
              "      <th>mean</th>\n",
              "      <td>2.937997</td>\n",
              "      <td>1.075684e+06</td>\n",
              "      <td>10.137776</td>\n",
              "      <td>3105.301915</td>\n",
              "      <td>2.914728</td>\n",
              "      <td>1.534242</td>\n",
              "      <td>1.610075</td>\n",
              "      <td>558.416127</td>\n",
              "      <td>151.967650</td>\n",
              "      <td>1964.684217</td>\n",
              "      <td>-37.809203</td>\n",
              "      <td>144.995216</td>\n",
              "      <td>7454.417378</td>\n",
              "    </tr>\n",
              "    <tr>\n",
              "      <th>std</th>\n",
              "      <td>0.955748</td>\n",
              "      <td>6.393107e+05</td>\n",
              "      <td>5.868725</td>\n",
              "      <td>90.676964</td>\n",
              "      <td>0.965921</td>\n",
              "      <td>0.691712</td>\n",
              "      <td>0.962634</td>\n",
              "      <td>3990.669241</td>\n",
              "      <td>541.014538</td>\n",
              "      <td>37.273762</td>\n",
              "      <td>0.079260</td>\n",
              "      <td>0.103916</td>\n",
              "      <td>4378.581772</td>\n",
              "    </tr>\n",
              "    <tr>\n",
              "      <th>min</th>\n",
              "      <td>1.000000</td>\n",
              "      <td>8.500000e+04</td>\n",
              "      <td>0.000000</td>\n",
              "      <td>3000.000000</td>\n",
              "      <td>0.000000</td>\n",
              "      <td>0.000000</td>\n",
              "      <td>0.000000</td>\n",
              "      <td>0.000000</td>\n",
              "      <td>0.000000</td>\n",
              "      <td>1196.000000</td>\n",
              "      <td>-38.182550</td>\n",
              "      <td>144.431810</td>\n",
              "      <td>249.000000</td>\n",
              "    </tr>\n",
              "    <tr>\n",
              "      <th>25%</th>\n",
              "      <td>2.000000</td>\n",
              "      <td>6.500000e+05</td>\n",
              "      <td>6.100000</td>\n",
              "      <td>3044.000000</td>\n",
              "      <td>2.000000</td>\n",
              "      <td>1.000000</td>\n",
              "      <td>1.000000</td>\n",
              "      <td>177.000000</td>\n",
              "      <td>93.000000</td>\n",
              "      <td>1940.000000</td>\n",
              "      <td>-37.856822</td>\n",
              "      <td>144.929600</td>\n",
              "      <td>4380.000000</td>\n",
              "    </tr>\n",
              "    <tr>\n",
              "      <th>50%</th>\n",
              "      <td>3.000000</td>\n",
              "      <td>9.030000e+05</td>\n",
              "      <td>9.200000</td>\n",
              "      <td>3084.000000</td>\n",
              "      <td>3.000000</td>\n",
              "      <td>1.000000</td>\n",
              "      <td>2.000000</td>\n",
              "      <td>440.000000</td>\n",
              "      <td>126.000000</td>\n",
              "      <td>1970.000000</td>\n",
              "      <td>-37.802355</td>\n",
              "      <td>145.000100</td>\n",
              "      <td>6555.000000</td>\n",
              "    </tr>\n",
              "    <tr>\n",
              "      <th>75%</th>\n",
              "      <td>3.000000</td>\n",
              "      <td>1.330000e+06</td>\n",
              "      <td>13.000000</td>\n",
              "      <td>3148.000000</td>\n",
              "      <td>3.000000</td>\n",
              "      <td>2.000000</td>\n",
              "      <td>2.000000</td>\n",
              "      <td>651.000000</td>\n",
              "      <td>174.000000</td>\n",
              "      <td>1999.000000</td>\n",
              "      <td>-37.756400</td>\n",
              "      <td>145.058305</td>\n",
              "      <td>10331.000000</td>\n",
              "    </tr>\n",
              "    <tr>\n",
              "      <th>max</th>\n",
              "      <td>10.000000</td>\n",
              "      <td>9.000000e+06</td>\n",
              "      <td>48.100000</td>\n",
              "      <td>3977.000000</td>\n",
              "      <td>20.000000</td>\n",
              "      <td>8.000000</td>\n",
              "      <td>10.000000</td>\n",
              "      <td>433014.000000</td>\n",
              "      <td>44515.000000</td>\n",
              "      <td>2018.000000</td>\n",
              "      <td>-37.408530</td>\n",
              "      <td>145.526350</td>\n",
              "      <td>21650.000000</td>\n",
              "    </tr>\n",
              "  </tbody>\n",
              "</table>\n",
              "</div>"
            ],
            "text/plain": [
              "              Rooms         Price  ...    Longtitude  Propertycount\n",
              "count  13580.000000  1.358000e+04  ...  13580.000000   13580.000000\n",
              "mean       2.937997  1.075684e+06  ...    144.995216    7454.417378\n",
              "std        0.955748  6.393107e+05  ...      0.103916    4378.581772\n",
              "min        1.000000  8.500000e+04  ...    144.431810     249.000000\n",
              "25%        2.000000  6.500000e+05  ...    144.929600    4380.000000\n",
              "50%        3.000000  9.030000e+05  ...    145.000100    6555.000000\n",
              "75%        3.000000  1.330000e+06  ...    145.058305   10331.000000\n",
              "max       10.000000  9.000000e+06  ...    145.526350   21650.000000\n",
              "\n",
              "[8 rows x 13 columns]"
            ]
          },
          "metadata": {
            "tags": []
          },
          "execution_count": 127
        }
      ]
    },
    {
      "cell_type": "code",
      "metadata": {
        "id": "IKOZZfTdsyf0",
        "colab_type": "code",
        "colab": {}
      },
      "source": [
        "# Split the train and test for model\n",
        "from sklearn.model_selection import train_test_split\n",
        "\n",
        "train_set, test_set = train_test_split(mhs, test_size=0.2, random_state=42)"
      ],
      "execution_count": 0,
      "outputs": []
    },
    {
      "cell_type": "code",
      "metadata": {
        "id": "qU_MNb-etVzN",
        "colab_type": "code",
        "colab": {
          "base_uri": "https://localhost:8080/",
          "height": 296
        },
        "outputId": "9add32fb-8740-41e9-ce2a-9c70cdac1f87"
      },
      "source": [
        "# Visualize where the all houses are located\n",
        "housing = train_set.copy()\n",
        "\n",
        "housing.plot(kind=\"scatter\", x=\"Lattitude\", y=\"Longtitude\", alpha=0.1)"
      ],
      "execution_count": 129,
      "outputs": [
        {
          "output_type": "execute_result",
          "data": {
            "text/plain": [
              "<matplotlib.axes._subplots.AxesSubplot at 0x7fc10b1b24a8>"
            ]
          },
          "metadata": {
            "tags": []
          },
          "execution_count": 129
        },
        {
          "output_type": "display_data",
          "data": {
            "image/png": "[encoded data removed]",
            "text/plain": [
              "<Figure size 432x288 with 1 Axes>"
            ]
          },
          "metadata": {
            "tags": []
          }
        }
      ]
    },
    {
      "cell_type": "code",
      "metadata": {
        "id": "I5GPGAvsuO1G",
        "colab_type": "code",
        "colab": {}
      },
      "source": [
        "# find out the correlations between every pair of the attributes using corr method\n",
        "\n",
        "corr_matrix = housing.corr()"
      ],
      "execution_count": 0,
      "outputs": []
    },
    {
      "cell_type": "code",
      "metadata": {
        "id": "RdCKIBxhuja9",
        "colab_type": "code",
        "colab": {
          "base_uri": "https://localhost:8080/",
          "height": 255
        },
        "outputId": "cf3cb20b-17a4-47c6-e986-8482fc0f3111"
      },
      "source": [
        "corr_matrix['Price'].sort_values(ascending=False)\n",
        " # Here price is more positively correlated with Rooms, Bedroom2, Bathroom and -ve ly with Distance, Lattitude..."
      ],
      "execution_count": 131,
      "outputs": [
        {
          "output_type": "execute_result",
          "data": {
            "text/plain": [
              "Price            1.000000\n",
              "Rooms            0.494437\n",
              "Bedroom2         0.471534\n",
              "Bathroom         0.462688\n",
              "Car              0.228984\n",
              "Longtitude       0.203065\n",
              "Postcode         0.102774\n",
              "BuildingArea     0.081609\n",
              "Landsize         0.047619\n",
              "Propertycount   -0.045626\n",
              "Distance        -0.162155\n",
              "Lattitude       -0.209831\n",
              "YearBuilt       -0.332337\n",
              "Name: Price, dtype: float64"
            ]
          },
          "metadata": {
            "tags": []
          },
          "execution_count": 131
        }
      ]
    },
    {
      "cell_type": "code",
      "metadata": {
        "id": "Gvfcz4bowCM5",
        "colab_type": "code",
        "colab": {
          "base_uri": "https://localhost:8080/",
          "height": 811
        },
        "outputId": "b4db7d05-cbcb-412b-aebe-40ab38456261"
      },
      "source": [
        "#  another way to check correlation b/w attributes is to use pandas scatter matrix - here we see top three attributes correlation with price values\n",
        "from pandas.plotting import scatter_matrix\n",
        "\n",
        "attributes = [\"Price\",\"Rooms\",\"Bedroom2\",\"Bathroom\"]\n",
        "\n",
        "scatter_matrix(housing[attributes], figsize=(12,8))"
      ],
      "execution_count": 132,
      "outputs": [
        {
          "output_type": "execute_result",
          "data": {
            "text/plain": [
              "array([[<matplotlib.axes._subplots.AxesSubplot object at 0x7fc10b116c18>,\n",
              "        <matplotlib.axes._subplots.AxesSubplot object at 0x7fc10b137d68>,\n",
              "        <matplotlib.axes._subplots.AxesSubplot object at 0x7fc10b0e9eb8>,\n",
              "        <matplotlib.axes._subplots.AxesSubplot object at 0x7fc10b0a5048>],\n",
              "       [<matplotlib.axes._subplots.AxesSubplot object at 0x7fc10b054198>,\n",
              "        <matplotlib.axes._subplots.AxesSubplot object at 0x7fc10b0072e8>,\n",
              "        <matplotlib.axes._subplots.AxesSubplot object at 0x7fc10b0336d8>,\n",
              "        <matplotlib.axes._subplots.AxesSubplot object at 0x7fc10afe5cc0>],\n",
              "       [<matplotlib.axes._subplots.AxesSubplot object at 0x7fc10afe5cf8>,\n",
              "        <matplotlib.axes._subplots.AxesSubplot object at 0x7fc10af4d828>,\n",
              "        <matplotlib.axes._subplots.AxesSubplot object at 0x7fc10aeffdd8>,\n",
              "        <matplotlib.axes._subplots.AxesSubplot object at 0x7fc10aebd3c8>],\n",
              "       [<matplotlib.axes._subplots.AxesSubplot object at 0x7fc10aeea978>,\n",
              "        <matplotlib.axes._subplots.AxesSubplot object at 0x7fc10aea0f28>,\n",
              "        <matplotlib.axes._subplots.AxesSubplot object at 0x7fc10ae5a518>,\n",
              "        <matplotlib.axes._subplots.AxesSubplot object at 0x7fc10ae0cac8>]],\n",
              "      dtype=object)"
            ]
          },
          "metadata": {
            "tags": []
          },
          "execution_count": 132
        },
        {
          "output_type": "display_data",
          "data": {
            "image/png": "[encoded data removed]",
            "text/plain": [
              "<Figure size 864x576 with 16 Axes>"
            ]
          },
          "metadata": {
            "tags": []
          }
        }
      ]
    },
    {
      "cell_type": "code",
      "metadata": {
        "id": "kfj1Bfsqw0XY",
        "colab_type": "code",
        "colab": {}
      },
      "source": [
        "# Prepare the Data for machine learning algorithms\n",
        "\n",
        "# Train Set\n",
        "housing_train_set = pd.DataFrame({})\n",
        "housing_train_set['Rooms'] = train_set['Rooms']\n",
        "housing_train_set['Type'] = train_set['Type']\n",
        "housing_train_set['Bedroom2'] = train_set['Bedroom2']\n",
        "housing_train_set['Bathroom'] = train_set['Bathroom']\n",
        "housing_train_set['Car'] = train_set['Car']\n",
        "housing_train_set['Landsize'] = train_set['Landsize']\n",
        "# housing_train_set['CouncilArea'] = mhs['CouncilArea']\n",
        "# Train Labels\n",
        "housing_train_labels = train_set['Price']"
      ],
      "execution_count": 0,
      "outputs": []
    },
    {
      "cell_type": "code",
      "metadata": {
        "id": "iqizPGaH2MHG",
        "colab_type": "code",
        "colab": {
          "base_uri": "https://localhost:8080/",
          "height": 51
        },
        "outputId": "d871a441-22f6-4b40-cc85-d26d5938b537"
      },
      "source": [
        "# Data cleaning - ML algorithms cannot work with missing features we need to fix it\n",
        "# we already seen we have two columns having missing values - [Car, CouncilArea]\n",
        "# we have so many methods to handle missing values. but here we are using `Simple Imputer` method from `sklearn` lib\n",
        "\n",
        "from sklearn.impute import SimpleImputer\n",
        "\n",
        "imputer = SimpleImputer(strategy=\"median\") \n",
        "# here median can only be computed on numerical attributes - we can drop category attrib (CouncilArea Columns) from training set\n",
        "\n",
        "# housing_num = housing_train_set.drop(\"CouncilArea\", axis=1)\n",
        "housing_num = housing_train_set.drop(\"Type\", axis=1)\n",
        "\n",
        "imputer.fit(housing_num)"
      ],
      "execution_count": 134,
      "outputs": [
        {
          "output_type": "execute_result",
          "data": {
            "text/plain": [
              "SimpleImputer(add_indicator=False, copy=True, fill_value=None,\n",
              "              missing_values=nan, strategy='median', verbose=0)"
            ]
          },
          "metadata": {
            "tags": []
          },
          "execution_count": 134
        }
      ]
    },
    {
      "cell_type": "code",
      "metadata": {
        "id": "wvtbqGyd4ryj",
        "colab_type": "code",
        "colab": {
          "base_uri": "https://localhost:8080/",
          "height": 34
        },
        "outputId": "b269b92a-93ae-497e-88e5-f72ef638966c"
      },
      "source": [
        "imputer.statistics_"
      ],
      "execution_count": 135,
      "outputs": [
        {
          "output_type": "execute_result",
          "data": {
            "text/plain": [
              "array([  3.,   3.,   1.,   2., 435.])"
            ]
          },
          "metadata": {
            "tags": []
          },
          "execution_count": 135
        }
      ]
    },
    {
      "cell_type": "code",
      "metadata": {
        "id": "QtZT8f8h4v8w",
        "colab_type": "code",
        "colab": {
          "base_uri": "https://localhost:8080/",
          "height": 34
        },
        "outputId": "b16c76d5-e699-41ee-c3c3-bf5acbc0c05a"
      },
      "source": [
        "housing_num.median().values"
      ],
      "execution_count": 136,
      "outputs": [
        {
          "output_type": "execute_result",
          "data": {
            "text/plain": [
              "array([  3.,   3.,   1.,   2., 435.])"
            ]
          },
          "metadata": {
            "tags": []
          },
          "execution_count": 136
        }
      ]
    },
    {
      "cell_type": "code",
      "metadata": {
        "id": "KEjTe94q43FQ",
        "colab_type": "code",
        "colab": {}
      },
      "source": [
        "X = imputer.transform(housing_num) # here we getting output in numpy array values if you want to put it back in pandas dataframe it is simple "
      ],
      "execution_count": 0,
      "outputs": []
    },
    {
      "cell_type": "code",
      "metadata": {
        "id": "OdAwBQvW5C9u",
        "colab_type": "code",
        "colab": {}
      },
      "source": [
        "housing_tr = pd.DataFrame(X, columns=housing_num.columns, index=housing_num.index)"
      ],
      "execution_count": 0,
      "outputs": []
    },
    {
      "cell_type": "code",
      "metadata": {
        "id": "G0HMHwfN5718",
        "colab_type": "code",
        "colab": {
          "base_uri": "https://localhost:8080/",
          "height": 51
        },
        "outputId": "ff8f1f02-0430-4e7f-9dee-6764959de779"
      },
      "source": [
        "# Handling Categorical Attributes - using `one hot encoder` from `sklearn` lib\n",
        "\n",
        "housing_cat = housing_train_set[['Type']]\n",
        "\n",
        "\n",
        "from sklearn.preprocessing import OneHotEncoder\n",
        "\n",
        "cat_encoder = OneHotEncoder()\n",
        "hosuing_cat_1hot = cat_encoder.fit_transform(housing_cat)\n",
        "hosuing_cat_1hot"
      ],
      "execution_count": 139,
      "outputs": [
        {
          "output_type": "execute_result",
          "data": {
            "text/plain": [
              "<10864x3 sparse matrix of type '<class 'numpy.float64'>'\n",
              "\twith 10864 stored elements in Compressed Sparse Row format>"
            ]
          },
          "metadata": {
            "tags": []
          },
          "execution_count": 139
        }
      ]
    },
    {
      "cell_type": "code",
      "metadata": {
        "id": "LOfUDJ0E_90x",
        "colab_type": "code",
        "colab": {}
      },
      "source": [
        "#  creating transformation pipelines\n",
        "\n",
        "from sklearn.pipeline import Pipeline\n",
        "from sklearn.preprocessing import StandardScaler\n",
        "\n",
        "num_pipeline_train_set = Pipeline([\n",
        "                                   ('imputer', SimpleImputer(strategy=\"median\")),\n",
        "                                   ('std_scaler', StandardScaler()),\n",
        "])\n",
        "\n",
        "\n",
        "\n",
        "from sklearn.compose import ColumnTransformer\n",
        "\n",
        "num_attribs = list(housing_num)\n",
        "cat_attribs = ['Type']\n",
        "\n",
        "full_pipeline = ColumnTransformer([\n",
        "                  ('num', num_pipeline_train_set, num_attribs),\n",
        "                  ('cat', OneHotEncoder(), cat_attribs)\n",
        "])\n",
        "\n",
        "housing_prepared = full_pipeline.fit_transform(housing_train_set)"
      ],
      "execution_count": 0,
      "outputs": []
    },
    {
      "cell_type": "code",
      "metadata": {
        "id": "94kBG4SOBSqP",
        "colab_type": "code",
        "colab": {
          "base_uri": "https://localhost:8080/",
          "height": 34
        },
        "outputId": "da6cad57-591c-4647-f1c8-77750697e239"
      },
      "source": [
        "# Train a Model - Without Cross Validation\n",
        "\n",
        "# Linear Regression\n",
        "from sklearn.linear_model import LinearRegression\n",
        "\n",
        "lin_reg = LinearRegression()\n",
        "lin_reg.fit(housing_prepared, housing_train_labels)"
      ],
      "execution_count": 141,
      "outputs": [
        {
          "output_type": "execute_result",
          "data": {
            "text/plain": [
              "LinearRegression(copy_X=True, fit_intercept=True, n_jobs=None, normalize=False)"
            ]
          },
          "metadata": {
            "tags": []
          },
          "execution_count": 141
        }
      ]
    },
    {
      "cell_type": "code",
      "metadata": {
        "id": "07azB_emEWFo",
        "colab_type": "code",
        "colab": {
          "base_uri": "https://localhost:8080/",
          "height": 68
        },
        "outputId": "786a2479-4a4f-4b07-802c-7e0370274938"
      },
      "source": [
        "# try it out few instances from the training set\n",
        "sample_data = housing_train_set.iloc[:3]\n",
        "sample_labels = housing_train_labels[:3]\n",
        "\n",
        "sample_data_prepared = full_pipeline.transform(sample_data)\n",
        "\n",
        "print(\"Prediction\", lin_reg.predict(sample_data_prepared))\n",
        "\n",
        "print(\"Labels\", list(sample_labels))\n",
        "\n",
        "from sklearn.metrics import mean_squared_error as mse\n",
        "\n",
        "housing_prediction = lin_reg.predict(housing_prepared)\n",
        "lin_mse = mse(housing_train_labels,housing_prediction)\n",
        "lin_rmse = np.sqrt(lin_mse)\n",
        "lin_rmse"
      ],
      "execution_count": 142,
      "outputs": [
        {
          "output_type": "stream",
          "text": [
            "Prediction [1442297.59616217 1031198.93444031  554042.10383294]\n",
            "Labels [1480000.0, 1530000.0, 690000.0]\n"
          ],
          "name": "stdout"
        },
        {
          "output_type": "execute_result",
          "data": {
            "text/plain": [
              "524216.62570248265"
            ]
          },
          "metadata": {
            "tags": []
          },
          "execution_count": 142
        }
      ]
    },
    {
      "cell_type": "code",
      "metadata": {
        "id": "MDPEhx4lFgx1",
        "colab_type": "code",
        "colab": {
          "base_uri": "https://localhost:8080/",
          "height": 34
        },
        "outputId": "ca88d959-3c7c-4bcc-c88d-d4e760ef2353"
      },
      "source": [
        "# Decision Tree\n",
        "from sklearn.tree import DecisionTreeRegressor\n",
        "tree_reg = DecisionTreeRegressor()\n",
        "tree_reg.fit(housing_prepared, housing_train_labels)\n",
        "\n",
        "housing_prediction = tree_reg.predict(housing_prepared)\n",
        "tree_mse = mse(housing_train_labels,housing_prediction)\n",
        "tree_rmse = np.sqrt(tree_mse)\n",
        "tree_rmse"
      ],
      "execution_count": 143,
      "outputs": [
        {
          "output_type": "execute_result",
          "data": {
            "text/plain": [
              "223724.0701736062"
            ]
          },
          "metadata": {
            "tags": []
          },
          "execution_count": 143
        }
      ]
    },
    {
      "cell_type": "code",
      "metadata": {
        "id": "b1js2sKgG-uL",
        "colab_type": "code",
        "colab": {
          "base_uri": "https://localhost:8080/",
          "height": 34
        },
        "outputId": "76881a6f-36fe-4c77-c880-214fee2f7c59"
      },
      "source": [
        "# Random Forest\n",
        "from sklearn.ensemble import RandomForestRegressor\n",
        "for_reg = RandomForestRegressor()\n",
        "for_reg.fit(housing_prepared, housing_train_labels)\n",
        "\n",
        "housing_prediction = for_reg.predict(housing_prepared)\n",
        "for_mse = mse(housing_train_labels,housing_prediction)\n",
        "for_rmse = np.sqrt(for_mse)\n",
        "for_rmse"
      ],
      "execution_count": 144,
      "outputs": [
        {
          "output_type": "execute_result",
          "data": {
            "text/plain": [
              "287843.3844640984"
            ]
          },
          "metadata": {
            "tags": []
          },
          "execution_count": 144
        }
      ]
    },
    {
      "cell_type": "code",
      "metadata": {
        "id": "sFGFcZIWHZhT",
        "colab_type": "code",
        "colab": {
          "base_uri": "https://localhost:8080/",
          "height": 68
        },
        "outputId": "b93b4b36-1c58-4915-9196-d29e76ad6f89"
      },
      "source": [
        "# Train the model with Cross Validation\n",
        "from sklearn.model_selection import cross_val_score\n",
        "\n",
        "# Linear Regression\n",
        "scores = cross_val_score(lin_reg, housing_prepared, housing_train_labels,scoring=\"neg_mean_squared_error\", cv=10)\n",
        "\n",
        "lin_rmse_score = np.sqrt(-scores)\n",
        "print(lin_rmse_score, lin_rmse_score.mean()) "
      ],
      "execution_count": 145,
      "outputs": [
        {
          "output_type": "stream",
          "text": [
            "[511638.80844239 604251.96415149 489742.09454027 464129.96410521\n",
            " 516782.67650509 565094.67972274 516457.82515743 498451.19280126\n",
            " 555040.42254184 510726.92664126] 523231.6554608981\n"
          ],
          "name": "stdout"
        }
      ]
    },
    {
      "cell_type": "code",
      "metadata": {
        "id": "p6UOHOYAIWH5",
        "colab_type": "code",
        "colab": {
          "base_uri": "https://localhost:8080/",
          "height": 68
        },
        "outputId": "9d9ec797-d9a5-45e9-89b0-11884033142d"
      },
      "source": [
        "# Decision_Tree\n",
        "tree_scores = cross_val_score(tree_reg, housing_prepared, housing_train_labels,scoring=\"neg_mean_squared_error\", cv=10)\n",
        "\n",
        "tree_rmse_score = np.sqrt(-tree_scores)\n",
        "print(tree_rmse_score, tree_rmse_score.mean()) "
      ],
      "execution_count": 146,
      "outputs": [
        {
          "output_type": "stream",
          "text": [
            "[684263.56000323 770205.90470244 714763.7702751  637129.56410085\n",
            " 708933.01145066 705620.51924625 725899.05463757 659758.24756472\n",
            " 759259.32895769 673455.82530906] 703928.8786247565\n"
          ],
          "name": "stdout"
        }
      ]
    },
    {
      "cell_type": "code",
      "metadata": {
        "id": "E6ZVuTu2IvUg",
        "colab_type": "code",
        "colab": {
          "base_uri": "https://localhost:8080/",
          "height": 68
        },
        "outputId": "f4e94979-e654-4d99-f2aa-76ee18a1f613"
      },
      "source": [
        "# Random_forest\n",
        "for_scores = cross_val_score(for_reg, housing_prepared, housing_train_labels,scoring=\"neg_mean_squared_error\", cv=10)\n",
        "\n",
        "for_rmse_score = np.sqrt(-for_scores)\n",
        "print(for_rmse_score, for_rmse_score.mean())"
      ],
      "execution_count": 147,
      "outputs": [
        {
          "output_type": "stream",
          "text": [
            "[565105.88132534 662179.93930704 576106.69908299 521547.73676164\n",
            " 579702.27362572 609942.28382501 583007.41493973 545567.59427918\n",
            " 625510.32340271 568499.18405315] 583716.9330602508\n"
          ],
          "name": "stdout"
        }
      ]
    },
    {
      "cell_type": "code",
      "metadata": {
        "id": "puDwTva4JnBc",
        "colab_type": "code",
        "colab": {
          "base_uri": "https://localhost:8080/",
          "height": 88
        },
        "outputId": "7d00fa5d-1b9f-4d84-f325-8eb780086841"
      },
      "source": [
        "# Prepare the Test Set\n",
        "\n",
        "# Test Set\n",
        "housing_test_set = pd.DataFrame({})\n",
        "housing_test_set['Rooms'] = test_set['Rooms']\n",
        "housing_test_set['Type'] = test_set['Type']\n",
        "housing_test_set['Bedroom2'] = test_set['Bedroom2']\n",
        "housing_test_set['Bathroom'] = test_set['Bathroom']\n",
        "housing_test_set['Car'] = test_set['Car']\n",
        "housing_test_set['Landsize'] = test_set['Landsize']\n",
        "\n",
        "# Test Labels\n",
        "housing_test_labels = test_set['Price']\n",
        "\n",
        "housing_test_prepared = full_pipeline.transform(housing_test_set)\n",
        "\n",
        "final_predictions = lin_reg.predict(housing_test_prepared)\n",
        "lin_mse = mse(housing_test_labels,final_predictions)\n",
        "lin_rmse = np.sqrt(lin_mse)\n",
        "lin_rmse\n",
        "print(final_predictions,)\n",
        "print(list(housing_test_labels))"
      ],
      "execution_count": 148,
      "outputs": [
        {
          "output_type": "stream",
          "text": [
            "[1311659.56566364  553703.61858359  683899.96711042 ... 1588990.06228688\n",
            " 1967933.79621988 1029502.38032468]\n",
            "[2600000.0, 620000.0, 1000000.0, 430000.0, 392250.0, 700000.0, 439000.0, 2236000.0, 671000.0, 1870000.0, 2525000.0, 710000.0, 1330000.0, 642500.0, 731000.0, 860000.0, 429000.0, 790500.0, 2350000.0, 330000.0, 820000.0, 742000.0, 915000.0, 1562500.0, 1630000.0, 796000.0, 520000.0, 645000.0, 684000.0, 786000.0, 620000.0, 1700000.0, 270000.0, 340000.0, 772000.0, 431000.0, 1250000.0, 565500.0, 1080000.0, 558000.0, 1250000.0, 1051000.0, 1750000.0, 305000.0, 1100000.0, 900000.0, 710000.0, 610000.0, 445000.0, 907000.0, 820000.0, 2410000.0, 857000.0, 930000.0, 1800000.0, 518000.0, 831000.0, 1688000.0, 891000.0, 2440000.0, 738000.0, 1060000.0, 1270000.0, 1101000.0, 1900000.0, 1691500.0, 2100000.0, 527000.0, 2205000.0, 620000.0, 688000.0, 1580000.0, 1188000.0, 3010000.0, 1430000.0, 1670000.0, 529000.0, 960000.0, 368000.0, 3225000.0, 675000.0, 653000.0, 415500.0, 1290000.0, 980000.0, 812000.0, 740600.0, 1200000.0, 730000.0, 510000.0, 592000.0, 1300000.0, 1410000.0, 1650000.0, 1045000.0, 1900000.0, 370000.0, 1700000.0, 1310000.0, 1053000.0, 640000.0, 1390000.0, 1550000.0, 1236000.0, 320500.0, 585000.0, 2337000.0, 1662000.0, 645000.0, 1751000.0, 4000000.0, 940000.0, 615500.0, 1095000.0, 1760000.0, 589000.0, 1300000.0, 2860000.0, 1120000.0, 1467000.0, 1908000.0, 432000.0, 1275000.0, 1199000.0, 855000.0, 1445000.0, 1812500.0, 505000.0, 940000.0, 800000.0, 585000.0, 775000.0, 1060000.0, 2850000.0, 600000.0, 925000.0, 857000.0, 750000.0, 1151000.0, 605000.0, 1160000.0, 1676000.0, 1020000.0, 900000.0, 1035000.0, 3800000.0, 2956000.0, 515000.0, 2050000.0, 773000.0, 510000.0, 780000.0, 460000.0, 800000.0, 1145000.0, 1518000.0, 1420000.0, 1035000.0, 560000.0, 1424000.0, 1005000.0, 2105000.0, 1591000.0, 518500.0, 677000.0, 2150000.0, 975000.0, 660000.0, 580000.0, 670000.0, 1859000.0, 900000.0, 700000.0, 680000.0, 602000.0, 990000.0, 598000.0, 573000.0, 1150000.0, 1064000.0, 2950000.0, 980000.0, 510000.0, 660000.0, 915000.0, 1400000.0, 1690000.0, 1212500.0, 677776.0, 678000.0, 525000.0, 910000.0, 470000.0, 1185000.0, 566000.0, 1725000.0, 792000.0, 850000.0, 980000.0, 1110000.0, 582000.0, 736000.0, 860000.0, 840000.0, 1200000.0, 1300000.0, 730000.0, 1800000.0, 820000.0, 890000.0, 877500.0, 888000.0, 2410000.0, 940000.0, 675000.0, 500000.0, 548000.0, 750000.0, 2100000.0, 770000.0, 1246000.0, 1210000.0, 2000000.0, 1490000.0, 802000.0, 1040000.0, 1250000.0, 785000.0, 835000.0, 330000.0, 592000.0, 725000.0, 757000.0, 2400000.0, 957000.0, 912000.0, 791500.0, 850000.0, 3080000.0, 1930000.0, 570500.0, 655000.0, 2050000.0, 1422000.0, 3250000.0, 301000.0, 551000.0, 1520000.0, 1395000.0, 1915000.0, 736000.0, 855000.0, 1202000.0, 636000.0, 810000.0, 725000.0, 1280000.0, 841000.0, 710000.0, 665000.0, 512000.0, 937000.0, 1160000.0, 1182000.0, 1400000.0, 1200000.0, 1050000.0, 1510500.0, 1250000.0, 390000.0, 855000.0, 898000.0, 1250000.0, 1800000.0, 480000.0, 860000.0, 1000000.0, 1520000.0, 740000.0, 1500000.0, 1785000.0, 470000.0, 1071500.0, 632000.0, 586000.0, 1968500.0, 685000.0, 840000.0, 1405000.0, 605000.0, 1171000.0, 2250000.0, 1200000.0, 1690000.0, 1400000.0, 1297000.0, 460000.0, 650000.0, 1130000.0, 652500.0, 865000.0, 670000.0, 3325000.0, 600000.0, 3270000.0, 700000.0, 856000.0, 1072000.0, 800000.0, 605000.0, 550000.0, 660000.0, 542000.0, 2000000.0, 937500.0, 590000.0, 665000.0, 2365000.0, 1014000.0, 755000.0, 730000.0, 770000.0, 638000.0, 725000.0, 938000.0, 600000.0, 267500.0, 865000.0, 2000000.0, 735000.0, 600000.0, 1325000.0, 590000.0, 1600000.0, 580000.0, 570000.0, 740000.0, 1275000.0, 787000.0, 1076000.0, 1320000.0, 888000.0, 1635000.0, 1400000.0, 1700000.0, 660000.0, 1190000.0, 801000.0, 290000.0, 655000.0, 800000.0, 620000.0, 1200000.0, 965000.0, 835000.0, 400000.0, 380000.0, 1380000.0, 895500.0, 853000.0, 630000.0, 635000.0, 1420000.0, 1106000.0, 770000.0, 420000.0, 665000.0, 535000.0, 1010000.0, 811000.0, 1235000.0, 2260000.0, 1460000.0, 1131000.0, 1573000.0, 1460000.0, 1915000.0, 350000.0, 625000.0, 856000.0, 300000.0, 1175000.0, 881017.0, 370500.0, 892000.0, 600000.0, 1030000.0, 1695000.0, 445000.0, 500000.0, 920000.0, 425000.0, 3130000.0, 1400000.0, 910000.0, 1950000.0, 1520000.0, 382000.0, 840000.0, 650000.0, 725000.0, 1875000.0, 725000.0, 400000.0, 664000.0, 1005000.0, 3350000.0, 1500000.0, 520000.0, 615000.0, 1237000.0, 1200000.0, 955000.0, 910000.0, 2216000.0, 730000.0, 1515000.0, 905000.0, 1005000.0, 863000.0, 430000.0, 980000.0, 2655000.0, 650000.0, 1020000.0, 1601000.0, 380000.0, 1572000.0, 712000.0, 399000.0, 926000.0, 1451000.0, 3028000.0, 2420000.0, 475000.0, 950000.0, 1225000.0, 595000.0, 990000.0, 1843000.0, 1335000.0, 1470000.0, 492000.0, 940000.0, 310000.0, 1962000.0, 700000.0, 980000.0, 838000.0, 840000.0, 770000.0, 950000.0, 2750000.0, 801000.0, 740000.0, 770000.0, 900500.0, 1009000.0, 1515000.0, 1630000.0, 970000.0, 736000.0, 1150000.0, 631000.0, 472000.0, 622500.0, 542500.0, 520000.0, 1000000.0, 2130000.0, 900000.0, 432000.0, 1197000.0, 916000.0, 665500.0, 1032000.0, 1820000.0, 520000.0, 1430000.0, 470000.0, 504000.0, 655000.0, 1400000.0, 1210000.0, 467500.0, 2300000.0, 550000.0, 405000.0, 440000.0, 975000.0, 1245000.0, 988000.0, 857700.0, 1645000.0, 755000.0, 760000.0, 2880000.0, 670000.0, 577000.0, 1220000.0, 1045000.0, 523000.0, 1800000.0, 550000.0, 697500.0, 557000.0, 681000.0, 1455000.0, 855000.0, 958000.0, 410000.0, 1595000.0, 1190000.0, 660000.0, 521000.0, 1260000.0, 710000.0, 805000.0, 2700000.0, 2575000.0, 582000.0, 1530000.0, 1490000.0, 1055000.0, 500000.0, 830000.0, 851000.0, 1520000.0, 435000.0, 778000.0, 3950000.0, 1950000.0, 1480000.0, 610000.0, 1155000.0, 781500.0, 545000.0, 850000.0, 840000.0, 215000.0, 1052000.0, 1336000.0, 1151000.0, 295000.0, 1800000.0, 1410000.0, 1828500.0, 806000.0, 990000.0, 2460000.0, 631000.0, 980000.0, 1797000.0, 1200000.0, 1060000.0, 1745000.0, 2668000.0, 800000.0, 695000.0, 4760000.0, 495000.0, 1500000.0, 1001000.0, 1505000.0, 931000.0, 1200000.0, 510000.0, 677500.0, 1605000.0, 1300000.0, 1300000.0, 450000.0, 305000.0, 1425000.0, 1830000.0, 591500.0, 700000.0, 830000.0, 525500.0, 2250000.0, 640000.0, 761000.0, 1456000.0, 1305000.0, 1369000.0, 460000.0, 2667000.0, 2000000.0, 1045000.0, 1805000.0, 810000.0, 940000.0, 930000.0, 1420000.0, 500000.0, 2030000.0, 510000.0, 842000.0, 1810000.0, 520000.0, 1100000.0, 2800000.0, 445000.0, 555000.0, 700000.0, 1070500.0, 800000.0, 1020000.0, 1170000.0, 970000.0, 257500.0, 475000.0, 828000.0, 2151000.0, 540000.0, 625000.0, 560000.0, 658000.0, 925000.0, 952000.0, 272500.0, 2140000.0, 350000.0, 442000.0, 250000.0, 1970000.0, 820000.0, 1595000.0, 2500000.0, 1195000.0, 865000.0, 970000.0, 725000.0, 775000.0, 2905000.0, 975000.0, 1435000.0, 460000.0, 982500.0, 870000.0, 1850000.0, 585000.0, 1110000.0, 1300000.0, 800000.0, 1400000.0, 266000.0, 336000.0, 715000.0, 675000.0, 1115000.0, 1194500.0, 540000.0, 820000.0, 1700000.0, 712000.0, 1960000.0, 599900.0, 622500.0, 1460000.0, 1586000.0, 532000.0, 960500.0, 840000.0, 485000.0, 1405000.0, 412500.0, 778000.0, 1367000.0, 835000.0, 1800000.0, 640000.0, 1160000.0, 722500.0, 390000.0, 505000.0, 702500.0, 1300000.0, 601000.0, 1330000.0, 739000.0, 1100000.0, 875000.0, 600000.0, 408000.0, 2831000.0, 1175000.0, 1710000.0, 760000.0, 1127000.0, 1625000.0, 2370000.0, 690000.0, 800000.0, 790000.0, 565000.0, 462000.0, 1200000.0, 780000.0, 2950000.0, 1245000.0, 880000.0, 2015000.0, 805000.0, 2513000.0, 700000.0, 1135000.0, 890000.0, 1031000.0, 1830000.0, 566000.0, 860000.0, 1000000.0, 1100000.0, 1070000.0, 861000.0, 602000.0, 1475000.0, 591000.0, 600000.0, 1005000.0, 1015000.0, 2850000.0, 700000.0, 650000.0, 280000.0, 800000.0, 971000.0, 1485000.0, 1385000.0, 1044000.0, 770000.0, 2180000.0, 815000.0, 328000.0, 600000.0, 750000.0, 1190000.0, 627000.0, 1680000.0, 1085000.0, 571500.0, 477000.0, 2320000.0, 1035000.0, 1100000.0, 1750000.0, 840000.0, 470000.0, 970000.0, 2350000.0, 765000.0, 1205000.0, 1000000.0, 810000.0, 1100000.0, 965000.0, 390000.0, 1015000.0, 1081000.0, 1400000.0, 800000.0, 800000.0, 670000.0, 505000.0, 757500.0, 1922000.0, 2400000.0, 482500.0, 700500.0, 490000.0, 820000.0, 670000.0, 1285000.0, 1350000.0, 703000.0, 870000.0, 1120000.0, 1265000.0, 1865000.0, 988000.0, 410000.0, 1700000.0, 1250000.0, 650000.0, 550000.0, 1900000.0, 1150000.0, 835000.0, 500000.0, 817500.0, 811000.0, 1875000.0, 1350000.0, 2200000.0, 900000.0, 913000.0, 800000.0, 890000.0, 470000.0, 2000000.0, 892000.0, 2408000.0, 1050000.0, 515000.0, 603000.0, 470000.0, 895000.0, 590000.0, 1302000.0, 1120000.0, 1655000.0, 400000.0, 550000.0, 975000.0, 1300000.0, 1457500.0, 807000.0, 755000.0, 1322000.0, 960000.0, 1060000.0, 1465500.0, 533000.0, 2790000.0, 1602000.0, 921000.0, 660000.0, 1000000.0, 2210000.0, 738000.0, 847000.0, 505500.0, 1130000.0, 1950000.0, 600000.0, 430000.0, 1036500.0, 1055000.0, 1722500.0, 800000.0, 1465000.0, 1710000.0, 300000.0, 1315000.0, 1180000.0, 470000.0, 683000.0, 940000.0, 1280000.0, 3800000.0, 857000.0, 490000.0, 1125000.0, 565000.0, 1370000.0, 605100.0, 1500000.0, 650000.0, 400000.0, 3750000.0, 2800000.0, 2258000.0, 1100000.0, 1340000.0, 495000.0, 730000.0, 1230000.0, 1760000.0, 835000.0, 1900000.0, 955000.0, 995000.0, 410500.0, 1530000.0, 830000.0, 800000.0, 645000.0, 726000.0, 840000.0, 470000.0, 860000.0, 871000.0, 315000.0, 800000.0, 687000.0, 1716000.0, 780000.0, 708000.0, 2550000.0, 822000.0, 660000.0, 1635000.0, 520000.0, 500000.0, 800000.0, 860000.0, 1275000.0, 1015000.0, 1123000.0, 1663000.0, 690000.0, 1516000.0, 885000.0, 1310000.0, 575000.0, 930000.0, 288000.0, 1442000.0, 550000.0, 708000.0, 1290000.0, 780000.0, 1400000.0, 985000.0, 976000.0, 657500.0, 360000.0, 820000.0, 610000.0, 550000.0, 1220000.0, 1020000.0, 685000.0, 1217000.0, 1200000.0, 800000.0, 1002000.0, 1782000.0, 722500.0, 2900000.0, 650000.0, 582000.0, 1210000.0, 725000.0, 1150000.0, 745000.0, 1170000.0, 1286000.0, 270000.0, 965000.0, 1738000.0, 892000.0, 660000.0, 2700000.0, 1321000.0, 1100000.0, 2090000.0, 815000.0, 1000000.0, 1270000.0, 680000.0, 454000.0, 1221000.0, 1500000.0, 751000.0, 683500.0, 900000.0, 700000.0, 2000000.0, 607000.0, 805000.0, 575500.0, 800000.0, 280000.0, 590500.0, 650000.0, 983500.0, 1042000.0, 1018000.0, 490000.0, 1770000.0, 1090000.0, 515000.0, 543500.0, 1160000.0, 730000.0, 1370000.0, 795000.0, 890000.0, 1300000.0, 1016000.0, 1426000.0, 1500000.0, 740000.0, 1200000.0, 1045000.0, 816000.0, 1100000.0, 872000.0, 1031000.0, 421000.0, 790000.0, 855000.0, 931000.0, 840000.0, 970000.0, 2100000.0, 1481000.0, 1209000.0, 780000.0, 730000.0, 580000.0, 1335000.0, 505000.0, 2800000.0, 700000.0, 370000.0, 858000.0, 890000.0, 470000.0, 855000.0, 652000.0, 1660000.0, 1225000.0, 892500.0, 310000.0, 582000.0, 721500.0, 1370000.0, 1490000.0, 250000.0, 610000.0, 812000.0, 288000.0, 1965000.0, 770000.0, 460000.0, 740000.0, 1115000.0, 545000.0, 3075000.0, 720000.0, 1515000.0, 933000.0, 1010000.0, 1750000.0, 1385000.0, 750000.0, 2520000.0, 1500000.0, 900000.0, 585000.0, 465000.0, 520000.0, 948000.0, 896000.0, 530000.0, 755000.0, 2228000.0, 491000.0, 660000.0, 400000.0, 990000.0, 1142000.0, 860000.0, 902000.0, 845000.0, 1205000.0, 2200000.0, 1550000.0, 500000.0, 380000.0, 600000.0, 598000.0, 950000.0, 720000.0, 905000.0, 1415000.0, 1830000.0, 683000.0, 510000.0, 820000.0, 730000.0, 1097000.0, 2230000.0, 1370000.0, 965000.0, 1305000.0, 540000.0, 505000.0, 1105000.0, 4240000.0, 1070000.0, 675000.0, 725000.0, 551000.0, 5525000.0, 940000.0, 645000.0, 1320000.0, 610000.0, 1425000.0, 747000.0, 940000.0, 1601000.0, 950000.0, 660000.0, 1260000.0, 570000.0, 1010000.0, 1375000.0, 632000.0, 750000.0, 910000.0, 900000.0, 1201000.0, 1860000.0, 443000.0, 890000.0, 1630100.0, 360000.0, 542000.0, 1100000.0, 633000.0, 2500000.0, 1302000.0, 555698.0, 1110000.0, 1270000.0, 1350000.0, 590000.0, 640000.0, 1320000.0, 700000.0, 785000.0, 1210000.0, 615000.0, 1240000.0, 555000.0, 925000.0, 670000.0, 860000.0, 3500000.0, 750000.0, 1910000.0, 767000.0, 2055000.0, 1950000.0, 525500.0, 1680000.0, 353000.0, 475000.0, 1050000.0, 450000.0, 1240000.0, 540000.0, 672000.0, 650000.0, 810000.0, 875000.0, 1280000.0, 1425000.0, 2000000.0, 2800000.0, 775000.0, 715000.0, 517500.0, 3399000.0, 1030000.0, 1250000.0, 480000.0, 1903000.0, 1005000.0, 1130000.0, 520000.0, 741000.0, 970000.0, 915000.0, 1050000.0, 1070000.0, 835000.0, 1310000.0, 928000.0, 625000.0, 591000.0, 1120000.0, 773000.0, 1350000.0, 575000.0, 760000.0, 556500.0, 1501000.0, 1311000.0, 1340000.0, 821000.0, 1310000.0, 806000.0, 875000.0, 790000.0, 820000.0, 530000.0, 485000.0, 600000.0, 2567500.0, 1375000.0, 1300000.0, 642000.0, 1525000.0, 1025000.0, 935000.0, 665000.0, 3970000.0, 1190000.0, 540000.0, 1106000.0, 630000.0, 752000.0, 539000.0, 612500.0, 1560000.0, 784000.0, 1250000.0, 550000.0, 470000.0, 1560000.0, 1630000.0, 760000.0, 1561000.0, 707000.0, 286000.0, 535000.0, 2800000.0, 600000.0, 1300000.0, 380000.0, 780000.0, 640000.0, 1800000.0, 440000.0, 2725000.0, 562000.0, 1605000.0, 1300000.0, 1365000.0, 700000.0, 455000.0, 1455000.0, 452000.0, 2525000.0, 785000.0, 506000.0, 800000.0, 465000.0, 655000.0, 755000.0, 1910000.0, 1206000.0, 790000.0, 1725000.0, 875000.0, 1456000.0, 660000.0, 476000.0, 740000.0, 1545000.0, 295000.0, 1750000.0, 725000.0, 400000.0, 690000.0, 990000.0, 1445000.0, 952000.0, 540000.0, 3160000.0, 1500000.0, 750500.0, 385000.0, 735000.0, 826000.0, 650000.0, 1391000.0, 1911000.0, 891000.0, 667000.0, 3695000.0, 600000.0, 930000.0, 2050000.0, 900000.0, 1700000.0, 875000.0, 1650000.0, 690500.0, 1802000.0, 1585000.0, 970000.0, 1637000.0, 1320000.0, 1590000.0, 1836000.0, 575500.0, 881000.0, 918000.0, 967000.0, 360000.0, 1678000.0, 535600.0, 905000.0, 490000.0, 1315000.0, 2600000.0, 1260000.0, 3200000.0, 1210000.0, 2800000.0, 650000.0, 950000.0, 700000.0, 1117000.0, 1235000.0, 1500000.0, 2305000.0, 950000.0, 485000.0, 680000.0, 460000.0, 559000.0, 305000.0, 815000.0, 890000.0, 310000.0, 796000.0, 913000.0, 685000.0, 517000.0, 1537000.0, 2910000.0, 1275000.0, 1955000.0, 590000.0, 1700000.0, 805000.0, 643500.0, 1509000.0, 1040000.0, 1161000.0, 1700000.0, 1300000.0, 510000.0, 365000.0, 599000.0, 1190000.0, 800000.0, 590000.0, 1582000.0, 1900000.0, 650000.0, 1280000.0, 560000.0, 1612000.0, 442000.0, 500000.0, 825000.0, 745000.0, 1190000.0, 870000.0, 1005000.0, 550000.0, 1350000.0, 1025000.0, 370000.0, 715000.0, 815000.0, 600000.0, 1100000.0, 350000.0, 1000000.0, 1926000.0, 900000.0, 1253000.0, 1335000.0, 855000.0, 360000.0, 1403000.0, 420000.0, 1000000.0, 1345000.0, 1412000.0, 615000.0, 825000.0, 636000.0, 575500.0, 1111000.0, 572000.0, 1410000.0, 1384000.0, 785000.0, 896000.0, 390000.0, 545000.0, 595000.0, 1550000.0, 1486000.0, 500000.0, 1475000.0, 1217500.0, 730000.0, 470000.0, 797000.0, 540000.0, 865500.0, 1007000.0, 710000.0, 598000.0, 425000.0, 1018000.0, 570000.0, 1003000.0, 1240000.0, 822000.0, 860000.0, 1370000.0, 833800.0, 2250000.0, 645000.0, 666000.0, 930000.0, 755000.0, 905000.0, 730000.0, 3860000.0, 1100000.0, 575000.0, 740000.0, 1900000.0, 3200000.0, 706000.0, 1300000.0, 1535000.0, 716000.0, 916000.0, 2770000.0, 910000.0, 635000.0, 800000.0, 2180000.0, 1415000.0, 2200000.0, 500000.0, 2405000.0, 780000.0, 393000.0, 631090.0, 501000.0, 1950000.0, 880000.0, 2000000.0, 1350000.0, 2345000.0, 835000.0, 695000.0, 471500.0, 805000.0, 1501000.0, 1000000.0, 1220000.0, 1081000.0, 1000000.0, 575500.0, 1000000.0, 890000.0, 1300000.0, 1337000.0, 569000.0, 750000.0, 680000.0, 965000.0, 1640000.0, 725000.0, 610000.0, 985000.0, 1689000.0, 1350000.0, 1550000.0, 1050000.0, 850000.0, 583000.0, 710000.0, 802000.0, 1900000.0, 1900000.0, 825000.0, 1150000.0, 830000.0, 701000.0, 1325000.0, 801000.0, 550000.0, 750000.0, 1257000.0, 642000.0, 667500.0, 725000.0, 702000.0, 1205000.0, 775000.0, 380000.0, 3300000.0, 3100000.0, 647000.0, 1300000.0, 1750000.0, 1650000.0, 767000.0, 695000.0, 790000.0, 799900.0, 735000.0, 447000.0, 2000000.0, 555000.0, 1820000.0, 530000.0, 314000.0, 1045000.0, 2368000.0, 1253000.0, 1560000.0, 1375000.0, 1245000.0, 702000.0, 800000.0, 700000.0, 1220000.0, 717000.0, 550000.0, 700000.0, 1765000.0, 674000.0, 295000.0, 1195000.0, 617500.0, 910000.0, 870000.0, 1435000.0, 1306000.0, 1307500.0, 820000.0, 1731000.0, 695000.0, 1370000.0, 550000.0, 498500.0, 470000.0, 300000.0, 1090500.0, 841000.0, 670000.0, 367500.0, 1170000.0, 1100000.0, 910000.0, 941000.0, 2810000.0, 555000.0, 645000.0, 855000.0, 845000.0, 1385000.0, 850000.0, 1223000.0, 792000.0, 1015000.0, 800000.0, 905000.0, 1875000.0, 1000000.0, 405000.0, 3000000.0, 1250000.0, 1890000.0, 1455000.0, 1930000.0, 1480000.0, 1126000.0, 1725000.0, 450000.0, 723000.0, 2110000.0, 544500.0, 1250000.0, 1200000.0, 1345000.0, 790000.0, 1455000.0, 1905000.0, 1640000.0, 492000.0, 1200000.0, 1480000.0, 1100000.0, 743500.0, 1850000.0, 345000.0, 441000.0, 1010000.0, 834500.0, 1815000.0, 1140000.0, 1780000.0, 1710000.0, 335000.0, 1510000.0, 1750000.0, 750000.0, 740000.0, 300000.0, 1421000.0, 660000.0, 352000.0, 2180000.0, 1211000.0, 1350000.0, 1426000.0, 651000.0, 890000.0, 950000.0, 1310000.0, 1370000.0, 1460000.0, 1900000.0, 1402000.0, 1295000.0, 350000.0, 302500.0, 380000.0, 645000.0, 990000.0, 1215000.0, 475000.0, 1085000.0, 437000.0, 1450000.0, 835500.0, 631500.0, 1492000.0, 1110000.0, 584000.0, 2330000.0, 690000.0, 1050000.0, 1500000.0, 691500.0, 677000.0, 725000.0, 1211000.0, 1200000.0, 1435000.0, 1245000.0, 876000.0, 685000.0, 675000.0, 650000.0, 1250000.0, 1100000.0, 2504000.0, 3010000.0, 792000.0, 2520000.0, 1950000.0, 1675000.0, 1326000.0, 902000.0, 1290000.0, 615000.0, 1325000.0, 965000.0, 2375000.0, 847000.0, 1317500.0, 560000.0, 1850000.0, 2500000.0, 815000.0, 615000.0, 2450000.0, 440000.0, 740000.0, 2315000.0, 643000.0, 722000.0, 1030000.0, 2050000.0, 381000.0, 1500000.0, 1910000.0, 1040000.0, 517500.0, 1320000.0, 1465000.0, 4050000.0, 809000.0, 2500000.0, 730000.0, 1400000.0, 715000.0, 590000.0, 881500.0, 762000.0, 1700000.0, 750000.0, 591500.0, 4000000.0, 2830000.0, 680000.0, 826000.0, 835000.0, 751800.0, 1590000.0, 991000.0, 637000.0, 481000.0, 685000.0, 280000.0, 1074000.0, 1145000.0, 825000.0, 541000.0, 1250000.0, 2200000.0, 1152000.0, 910000.0, 762700.0, 1100000.0, 1280000.0, 920000.0, 760000.0, 815000.0, 900000.0, 992000.0, 730000.0, 910000.0, 1210000.0, 707500.0, 1450000.0, 1210000.0, 446000.0, 861000.0, 372000.0, 763000.0, 210000.0, 485000.0, 590000.0, 890500.0, 637000.0, 702000.0, 1077000.0, 510000.0, 1900000.0, 1280000.0, 750000.0, 2760000.0, 850000.0, 1460000.0, 650000.0, 1715000.0, 1420000.0, 640000.0, 780000.0, 1002500.0, 3400000.0, 331000.0, 525000.0, 460000.0, 1300000.0, 4850000.0, 705000.0, 763000.0, 1070000.0, 750000.0, 500500.0, 1390000.0, 704500.0, 1500000.0, 710000.0, 1055000.0, 1050000.0, 1272000.0, 1150000.0, 1162000.0, 565000.0, 1625000.0, 650000.0, 777000.0, 843000.0, 940000.0, 590000.0, 1250000.0, 770000.0, 656000.0, 672000.0, 625000.0, 1800000.0, 1210000.0, 720000.0, 635000.0, 1300000.0, 1750000.0, 620000.0, 1218500.0, 480000.0, 2100000.0, 660000.0, 895000.0, 1000000.0, 2340000.0, 1400000.0, 2200000.0, 2200000.0, 1310000.0, 625000.0, 393000.0, 900000.0, 890000.0, 970000.0, 770000.0, 575000.0, 1211000.0, 925000.0, 1634000.0, 1218000.0, 875000.0, 525000.0, 480000.0, 1023000.0, 745000.0, 1589000.0, 429000.0, 900000.0, 1460000.0, 1875000.0, 640000.0, 775000.0, 700000.0, 1085000.0, 840000.0, 493000.0, 601000.0, 390000.0, 667000.0, 1780000.0, 2850000.0, 1293000.0, 1822000.0, 780000.0, 887000.0, 450000.0, 1652000.0, 546000.0, 420000.0, 2045000.0, 1775000.0, 650000.0, 1200000.0, 1090000.0, 1080000.0, 855000.0, 1100000.0, 880000.0, 657500.0, 355000.0, 605000.0, 915000.0, 710000.0, 360000.0, 1290000.0, 970000.0, 1020000.0, 547500.0, 650000.0, 780000.0, 1520000.0, 600000.0, 703000.0, 635000.0, 392000.0, 485000.0, 897000.0, 1190000.0, 600000.0, 890000.0, 1900000.0, 1423000.0, 1570000.0, 887500.0, 1500000.0, 700000.0, 1322000.0, 455000.0, 381000.0, 655000.0, 456000.0, 520000.0, 1370000.0, 386000.0, 940000.0, 2160000.0, 1425000.0, 1640000.0, 961000.0, 810000.0, 550000.0, 1050000.0, 555000.0, 670000.0, 950000.0, 635000.0, 996000.0, 400500.0, 1600000.0, 1625000.0, 1134000.0, 450000.0, 523000.0, 1540000.0, 1330000.0, 645000.0, 474000.0, 1500000.0, 675000.0, 560000.0, 1055000.0, 460000.0, 1302000.0, 990000.0, 715000.0, 597000.0, 632000.0, 905000.0, 1975000.0, 910000.0, 1204000.0, 5500000.0, 850000.0, 729000.0, 1425000.0, 762000.0, 450000.0, 490000.0, 1077000.0, 1000000.0, 380000.0, 691000.0, 530000.0, 910000.0, 900000.0, 1510000.0, 1116000.0, 1292000.0, 2850000.0, 1726000.0, 1891000.0, 531000.0, 1675000.0, 931000.0, 2315000.0, 645000.0, 457000.0, 1400000.0, 932500.0, 840000.0, 860000.0, 413000.0, 380000.0, 720000.0, 1910000.0, 2000000.0, 1138000.0, 585000.0, 845000.0, 1370000.0, 850000.0, 472500.0, 646000.0, 840000.0, 2120000.0, 438000.0, 1400000.0, 721000.0, 1350000.0, 850000.0, 1001000.0, 516000.0, 575000.0, 1575000.0, 1980000.0, 645000.0, 1230000.0, 1327000.0, 690000.0, 770000.0, 1380000.0, 1455000.0, 1342000.0, 630000.0, 1370000.0, 1607500.0, 657000.0, 980000.0, 1350000.0, 1100000.0, 420000.0, 295000.0, 1250000.0, 2001000.0, 990000.0, 1975000.0, 550000.0, 407500.0, 920000.0, 1415000.0, 970000.0, 1150000.0, 1976000.0, 852000.0, 549500.0, 1698888.0, 1465000.0, 1620000.0, 695000.0, 822000.0, 485000.0, 820000.0, 935000.0, 3050000.0, 560000.0, 570000.0, 600000.0, 651000.0, 2200000.0, 590000.0, 697500.0, 480000.0, 442500.0, 975500.0, 1158000.0, 1705000.0, 892000.0, 750000.0, 790000.0, 1600000.0, 523000.0, 1224000.0, 330000.0, 855000.0, 965000.0, 1220000.0, 438000.0, 720000.0, 1360000.0, 920000.0, 1900000.0, 2570000.0, 1425000.0, 1850000.0, 805000.0, 1115000.0, 490000.0, 880000.0, 730000.0, 575000.0, 445000.0, 1730000.0, 700000.0, 732000.0, 881000.0, 820000.0, 2240000.0, 1300000.0, 780000.0, 790000.0, 1750000.0, 500000.0, 730000.0, 565000.0, 1540000.0, 1115000.0, 605000.0, 847000.0, 850000.0, 1600000.0, 698000.0, 1690000.0, 790000.0, 1360000.0, 545000.0, 998000.0, 2558000.0, 310000.0, 1301000.0, 720000.0, 1012500.0, 778500.0, 935000.0, 750000.0, 1201000.0, 1030000.0, 620000.0, 735000.0, 752500.0, 860000.0, 810000.0, 790000.0, 760000.0, 520000.0, 1000000.0, 2385000.0, 1110000.0, 900000.0, 1090000.0, 830000.0, 451500.0, 715000.0, 408500.0, 1743000.0, 988000.0, 1250000.0, 1350000.0, 473000.0, 955000.0, 1225000.0, 1410000.0, 1330000.0, 1135000.0, 1560000.0, 985500.0, 780000.0, 640000.0, 458000.0, 1300000.0, 795000.0, 1140000.0, 930000.0, 740000.0, 1725000.0, 550000.0, 1367000.0, 2310000.0, 1506000.0, 830000.0, 760000.0, 1033000.0, 296000.0, 980000.0, 485000.0, 1850000.0, 1450000.0, 1210000.0, 810000.0, 2444000.0, 1300000.0, 852000.0, 965000.0, 600000.0, 496000.0, 700000.0, 1400000.0, 610000.0, 1340000.0, 878000.0, 2080000.0, 505000.0, 320000.0, 1425000.0, 3450000.0, 797500.0, 300000.0, 601000.0, 1030000.0, 1170000.0, 1450000.0, 555000.0, 680000.0, 1663000.0, 912000.0, 330000.0, 557000.0, 700000.0, 3201000.0, 450000.0, 1270000.0, 705000.0, 1247000.0, 720000.0, 587000.0, 2900000.0, 495000.0, 781000.0, 1300000.0, 450000.0, 1145000.0, 1396000.0, 630000.0, 1630000.0, 537500.0, 1000000.0, 1875000.0, 977500.0, 1040000.0, 780000.0, 730000.0, 1550000.0, 1100000.0, 755000.0, 330000.0, 1010000.0, 1330000.0, 662000.0, 525000.0, 725000.0, 659000.0, 702000.0, 2610000.0, 450000.0, 2665000.0, 383000.0, 710000.0, 1700000.0, 1016000.0, 801000.0, 1200000.0, 1510000.0, 925000.0, 881000.0, 1593000.0, 775000.0, 1500000.0, 660000.0, 1120000.0, 2162000.0, 1361000.0, 1500000.0, 631000.0, 500000.0, 1400000.0, 2042000.0, 1145000.0, 2700000.0, 475000.0, 691000.0, 265000.0, 1325000.0, 721000.0, 800000.0, 1680000.0, 910000.0, 960000.0, 332000.0, 1908000.0, 905000.0, 1900000.0, 895000.0, 1500000.0, 1420000.0, 715000.0, 1480000.0, 1155000.0, 918000.0, 720000.0, 660000.0, 875000.0, 675000.0, 450000.0, 537000.0, 1450000.0, 2615000.0, 1160000.0, 710000.0, 1225000.0, 501000.0, 540000.0, 730000.0, 1215000.0, 1720000.0, 852000.0, 620000.0, 1290000.0, 630000.0, 3320000.0, 535000.0, 1306000.0, 985000.0, 875000.0, 1085000.0, 845000.0, 760000.0, 646000.0, 995000.0, 900000.0, 1185000.0, 1710000.0, 895000.0, 793000.0, 900000.0, 920000.0, 861000.0, 875000.0, 1600000.0, 1020000.0, 580000.0, 1200000.0, 522500.0, 1740000.0, 605000.0, 700000.0, 604000.0, 1150000.0, 640000.0, 625000.0, 1580000.0, 711000.0, 879000.0, 1222000.0, 800000.0, 1400000.0, 1615000.0, 1270000.0, 1040000.0, 1840000.0, 886000.0, 620000.0, 1010000.0, 675000.0, 2160000.0, 920000.0, 575000.0, 648000.0, 662000.0, 740000.0, 841000.0, 920000.0, 802000.0, 1700000.0, 710000.0, 1025000.0, 620000.0, 820000.0, 1015000.0, 730000.0, 1665000.0, 1532000.0, 1605000.0, 1435000.0, 2450000.0, 1100000.0, 700000.0, 400000.0, 2770000.0, 350000.0, 570000.0, 600000.0, 390000.0, 1120000.0, 340000.0, 1321000.0, 470000.0, 515000.0, 957500.0, 1768000.0, 275500.0, 670000.0, 2300000.0, 370000.0, 1706000.0, 1223500.0, 598000.0, 3255000.0, 2870000.0, 501000.0, 820000.0, 1300000.0, 2205000.0, 688000.0, 560000.0, 1001000.0, 730000.0, 750000.0, 625500.0, 650000.0, 1341500.0, 1042000.0, 1370000.0, 655000.0, 1017500.0, 860000.0, 1840000.0, 1350000.0, 456000.0, 500000.0, 560000.0, 1415000.0, 1730000.0, 1220000.0, 1015000.0, 630000.0, 1755000.0, 780000.0, 1266000.0, 905000.0, 2600000.0, 1500000.0, 1440000.0, 726000.0, 630000.0, 395000.0, 320000.0, 451000.0, 1440000.0, 1215000.0, 535000.0, 2100000.0, 1050000.0, 550000.0, 1130000.0, 465000.0, 2570000.0, 1910000.0, 2120000.0, 501000.0, 850000.0, 1320000.0, 366000.0, 821000.0, 3512500.0, 1750000.0, 485000.0, 659500.0, 2520000.0, 855000.0, 360000.0, 1110000.0, 1180000.0, 420000.0, 2920000.0, 1360000.0, 455000.0, 1655000.0, 855000.0, 655000.0, 703000.0, 858000.0, 1380000.0, 1630000.0, 587000.0, 900000.0, 390000.0, 1500000.0, 515000.0, 830000.0, 1030000.0, 580000.0, 1525000.0, 611000.0, 291000.0, 1080000.0, 455000.0, 865000.0, 1000000.0, 1010000.0, 1000000.0, 711100.0, 710000.0, 1050000.0, 1138000.0, 1200000.0, 500000.0, 1662500.0, 850000.0, 841000.0, 1610000.0, 2053000.0, 503000.0, 632500.0, 1405000.0, 2140000.0, 1190000.0, 1340000.0, 583000.0, 860000.0, 1875000.0, 1150000.0, 890000.0, 650000.0, 1045000.0, 380000.0, 1500000.0, 1100000.0, 366000.0, 1358000.0, 625000.0, 780000.0, 1011000.0, 1845000.0, 850000.0, 435000.0, 880000.0, 700000.0, 1415000.0, 380000.0, 502500.0, 915000.0, 605000.0, 510000.0, 546000.0, 685000.0, 1222500.0, 1366000.0, 717000.0, 435000.0, 415000.0, 640000.0, 305000.0, 930000.0, 1605000.0, 735000.0, 830000.0, 680000.0, 480000.0, 2105000.0, 745000.0, 2705000.0, 1250000.0, 1110000.0, 482000.0, 340000.0, 1355000.0, 750000.0, 1102000.0, 535000.0, 435000.0, 795000.0, 2248000.0, 1700000.0, 1940000.0, 1331000.0, 771000.0, 1035000.0, 500000.0, 830000.0, 1326000.0, 921000.0, 1495000.0, 845000.0, 1325000.0, 1085000.0, 682000.0, 1427000.0, 1780000.0, 690000.0, 1155000.0, 775000.0, 1200000.0, 1200000.0, 660000.0, 1800000.0, 431000.0, 1060000.0, 330000.0, 410000.0, 1088000.0, 1650000.0, 1400000.0, 366000.0, 922000.0, 715000.0, 400000.0, 947000.0, 975000.0, 349000.0, 4060000.0, 350000.0, 1300000.0, 1641000.0, 1448000.0, 1054000.0, 486500.0, 430000.0, 1710000.0, 550500.0, 1560000.0, 732000.0, 1000000.0, 779000.0, 840500.0, 1848000.0, 1645000.0, 1150000.0, 1211000.0, 970000.0, 605000.0, 552000.0, 820000.0, 1918000.0, 480000.0, 523000.0, 926000.0, 1300000.0, 1555000.0, 390000.0, 760000.0, 1800000.0, 948000.0, 725000.0, 1960000.0, 1060000.0, 600000.0, 390000.0, 832000.0, 2000000.0, 1020000.0, 2950000.0, 1350000.0, 1680000.0, 1026000.0, 610500.0, 1270000.0, 260000.0, 1250000.0, 630000.0, 820000.0, 335000.0, 615000.0, 650000.0, 1360000.0, 1010000.0, 1310000.0, 1100000.0, 1320000.0, 1075000.0, 980000.0, 1311000.0, 2016000.0, 1380000.0, 1225000.0, 945000.0, 990000.0, 1480000.0, 420000.0, 1210000.0, 290000.0, 840000.0, 3000000.0, 1037000.0, 1365000.0, 1126000.0, 710000.0, 725000.0, 380000.0, 2285000.0, 726000.0, 600000.0, 951000.0, 1825000.0, 1130000.0, 582000.0, 779000.0, 1470000.0, 1650000.0, 3250000.0, 1072000.0, 735000.0, 1000000.0, 452000.0, 1320000.0, 2920000.0, 670000.0, 1605000.0, 380000.0, 847500.0, 975000.0, 970000.0, 370000.0, 829000.0, 1352000.0, 510000.0, 600000.0, 1176500.0, 630000.0, 2300000.0, 930000.0, 450000.0, 2300000.0, 1880000.0, 900000.0, 725000.0, 812000.0, 680000.0, 780000.0, 645000.0, 1200000.0, 972500.0, 1248500.0, 630000.0, 1300000.0, 806000.0, 1325000.0, 1945000.0, 2400000.0, 526000.0, 2050000.0, 1350000.0, 275000.0, 816000.0, 646000.0, 1295000.0, 800000.0, 1240000.0, 907800.0, 1875000.0, 1415000.0, 6500000.0, 2450000.0, 1155000.0, 1040000.0]\n"
          ],
          "name": "stdout"
        }
      ]
    },
    {
      "cell_type": "markdown",
      "metadata": {
        "id": "hCZH4igxQrxR",
        "colab_type": "text"
      },
      "source": [
        "SUMMARY :\n",
        "\n",
        "Our Model is Underfitting the training data. because we have smaller datasets that is one of the main reasons\n",
        "\n",
        "Here are the main options to fixing this problem\n",
        "\n",
        "  1. Selecting a more powerful model with more parameters\n",
        "  2. Feed Better Features to the learning algorithms"
      ]
    }
  ]
}
